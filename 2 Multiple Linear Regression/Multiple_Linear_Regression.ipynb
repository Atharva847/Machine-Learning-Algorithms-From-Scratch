{
 "cells": [
  {
   "cell_type": "code",
   "execution_count": 30,
   "id": "883c86b6-651a-4dfc-ac12-e42b1800b7ee",
   "metadata": {},
   "outputs": [],
   "source": [
    "import numpy as np\n",
    "import pandas as pd\n",
    "import matplotlib.pyplot as plt\n",
    "from sklearn.model_selection import train_test_split\n",
    "from sklearn.preprocessing import LabelEncoder\n",
    "from sklearn.linear_model import LinearRegression\n",
    "from sklearn.metrics import r2_score, mean_absolute_error, mean_squared_error"
   ]
  },
  {
   "cell_type": "code",
   "execution_count": 31,
   "id": "79cafb0e-8e99-4b6b-93c1-f9317d49182b",
   "metadata": {},
   "outputs": [],
   "source": [
    "df = pd.read_csv('Student_Performance.csv')"
   ]
  },
  {
   "cell_type": "code",
   "execution_count": 32,
   "id": "28fc850c-042f-4cff-a31e-ee17fe67cc1b",
   "metadata": {},
   "outputs": [
    {
     "data": {
      "text/html": [
       "<div>\n",
       "<style scoped>\n",
       "    .dataframe tbody tr th:only-of-type {\n",
       "        vertical-align: middle;\n",
       "    }\n",
       "\n",
       "    .dataframe tbody tr th {\n",
       "        vertical-align: top;\n",
       "    }\n",
       "\n",
       "    .dataframe thead th {\n",
       "        text-align: right;\n",
       "    }\n",
       "</style>\n",
       "<table border=\"1\" class=\"dataframe\">\n",
       "  <thead>\n",
       "    <tr style=\"text-align: right;\">\n",
       "      <th></th>\n",
       "      <th>Hours Studied</th>\n",
       "      <th>Previous Scores</th>\n",
       "      <th>Extracurricular Activities</th>\n",
       "      <th>Sleep Hours</th>\n",
       "      <th>Sample Question Papers Practiced</th>\n",
       "      <th>Performance Index</th>\n",
       "    </tr>\n",
       "  </thead>\n",
       "  <tbody>\n",
       "    <tr>\n",
       "      <th>0</th>\n",
       "      <td>7</td>\n",
       "      <td>99</td>\n",
       "      <td>Yes</td>\n",
       "      <td>9</td>\n",
       "      <td>1</td>\n",
       "      <td>91.0</td>\n",
       "    </tr>\n",
       "    <tr>\n",
       "      <th>1</th>\n",
       "      <td>4</td>\n",
       "      <td>82</td>\n",
       "      <td>No</td>\n",
       "      <td>4</td>\n",
       "      <td>2</td>\n",
       "      <td>65.0</td>\n",
       "    </tr>\n",
       "    <tr>\n",
       "      <th>2</th>\n",
       "      <td>8</td>\n",
       "      <td>51</td>\n",
       "      <td>Yes</td>\n",
       "      <td>7</td>\n",
       "      <td>2</td>\n",
       "      <td>45.0</td>\n",
       "    </tr>\n",
       "    <tr>\n",
       "      <th>3</th>\n",
       "      <td>5</td>\n",
       "      <td>52</td>\n",
       "      <td>Yes</td>\n",
       "      <td>5</td>\n",
       "      <td>2</td>\n",
       "      <td>36.0</td>\n",
       "    </tr>\n",
       "    <tr>\n",
       "      <th>4</th>\n",
       "      <td>7</td>\n",
       "      <td>75</td>\n",
       "      <td>No</td>\n",
       "      <td>8</td>\n",
       "      <td>5</td>\n",
       "      <td>66.0</td>\n",
       "    </tr>\n",
       "    <tr>\n",
       "      <th>...</th>\n",
       "      <td>...</td>\n",
       "      <td>...</td>\n",
       "      <td>...</td>\n",
       "      <td>...</td>\n",
       "      <td>...</td>\n",
       "      <td>...</td>\n",
       "    </tr>\n",
       "    <tr>\n",
       "      <th>9995</th>\n",
       "      <td>1</td>\n",
       "      <td>49</td>\n",
       "      <td>Yes</td>\n",
       "      <td>4</td>\n",
       "      <td>2</td>\n",
       "      <td>23.0</td>\n",
       "    </tr>\n",
       "    <tr>\n",
       "      <th>9996</th>\n",
       "      <td>7</td>\n",
       "      <td>64</td>\n",
       "      <td>Yes</td>\n",
       "      <td>8</td>\n",
       "      <td>5</td>\n",
       "      <td>58.0</td>\n",
       "    </tr>\n",
       "    <tr>\n",
       "      <th>9997</th>\n",
       "      <td>6</td>\n",
       "      <td>83</td>\n",
       "      <td>Yes</td>\n",
       "      <td>8</td>\n",
       "      <td>5</td>\n",
       "      <td>74.0</td>\n",
       "    </tr>\n",
       "    <tr>\n",
       "      <th>9998</th>\n",
       "      <td>9</td>\n",
       "      <td>97</td>\n",
       "      <td>Yes</td>\n",
       "      <td>7</td>\n",
       "      <td>0</td>\n",
       "      <td>95.0</td>\n",
       "    </tr>\n",
       "    <tr>\n",
       "      <th>9999</th>\n",
       "      <td>7</td>\n",
       "      <td>74</td>\n",
       "      <td>No</td>\n",
       "      <td>8</td>\n",
       "      <td>1</td>\n",
       "      <td>64.0</td>\n",
       "    </tr>\n",
       "  </tbody>\n",
       "</table>\n",
       "<p>10000 rows × 6 columns</p>\n",
       "</div>"
      ],
      "text/plain": [
       "      Hours Studied  Previous Scores Extracurricular Activities  Sleep Hours  \\\n",
       "0                 7               99                        Yes            9   \n",
       "1                 4               82                         No            4   \n",
       "2                 8               51                        Yes            7   \n",
       "3                 5               52                        Yes            5   \n",
       "4                 7               75                         No            8   \n",
       "...             ...              ...                        ...          ...   \n",
       "9995              1               49                        Yes            4   \n",
       "9996              7               64                        Yes            8   \n",
       "9997              6               83                        Yes            8   \n",
       "9998              9               97                        Yes            7   \n",
       "9999              7               74                         No            8   \n",
       "\n",
       "      Sample Question Papers Practiced  Performance Index  \n",
       "0                                    1               91.0  \n",
       "1                                    2               65.0  \n",
       "2                                    2               45.0  \n",
       "3                                    2               36.0  \n",
       "4                                    5               66.0  \n",
       "...                                ...                ...  \n",
       "9995                                 2               23.0  \n",
       "9996                                 5               58.0  \n",
       "9997                                 5               74.0  \n",
       "9998                                 0               95.0  \n",
       "9999                                 1               64.0  \n",
       "\n",
       "[10000 rows x 6 columns]"
      ]
     },
     "execution_count": 32,
     "metadata": {},
     "output_type": "execute_result"
    }
   ],
   "source": [
    "df"
   ]
  },
  {
   "cell_type": "code",
   "execution_count": 33,
   "id": "f02155c9-3ae8-4ff6-805c-3b2c84635cf7",
   "metadata": {},
   "outputs": [
    {
     "name": "stdout",
     "output_type": "stream",
     "text": [
      "<class 'pandas.core.frame.DataFrame'>\n",
      "RangeIndex: 10000 entries, 0 to 9999\n",
      "Data columns (total 6 columns):\n",
      " #   Column                            Non-Null Count  Dtype  \n",
      "---  ------                            --------------  -----  \n",
      " 0   Hours Studied                     10000 non-null  int64  \n",
      " 1   Previous Scores                   10000 non-null  int64  \n",
      " 2   Extracurricular Activities        10000 non-null  object \n",
      " 3   Sleep Hours                       10000 non-null  int64  \n",
      " 4   Sample Question Papers Practiced  10000 non-null  int64  \n",
      " 5   Performance Index                 10000 non-null  float64\n",
      "dtypes: float64(1), int64(4), object(1)\n",
      "memory usage: 468.9+ KB\n"
     ]
    }
   ],
   "source": [
    "df.info()"
   ]
  },
  {
   "cell_type": "code",
   "execution_count": 34,
   "id": "55214ece-28ee-41f9-a8a9-2292c5643326",
   "metadata": {},
   "outputs": [
    {
     "data": {
      "text/html": [
       "<div>\n",
       "<style scoped>\n",
       "    .dataframe tbody tr th:only-of-type {\n",
       "        vertical-align: middle;\n",
       "    }\n",
       "\n",
       "    .dataframe tbody tr th {\n",
       "        vertical-align: top;\n",
       "    }\n",
       "\n",
       "    .dataframe thead th {\n",
       "        text-align: right;\n",
       "    }\n",
       "</style>\n",
       "<table border=\"1\" class=\"dataframe\">\n",
       "  <thead>\n",
       "    <tr style=\"text-align: right;\">\n",
       "      <th></th>\n",
       "      <th>Hours Studied</th>\n",
       "      <th>Previous Scores</th>\n",
       "      <th>Sleep Hours</th>\n",
       "      <th>Sample Question Papers Practiced</th>\n",
       "      <th>Performance Index</th>\n",
       "    </tr>\n",
       "  </thead>\n",
       "  <tbody>\n",
       "    <tr>\n",
       "      <th>count</th>\n",
       "      <td>10000.000000</td>\n",
       "      <td>10000.000000</td>\n",
       "      <td>10000.000000</td>\n",
       "      <td>10000.000000</td>\n",
       "      <td>10000.000000</td>\n",
       "    </tr>\n",
       "    <tr>\n",
       "      <th>mean</th>\n",
       "      <td>4.992900</td>\n",
       "      <td>69.445700</td>\n",
       "      <td>6.530600</td>\n",
       "      <td>4.583300</td>\n",
       "      <td>55.224800</td>\n",
       "    </tr>\n",
       "    <tr>\n",
       "      <th>std</th>\n",
       "      <td>2.589309</td>\n",
       "      <td>17.343152</td>\n",
       "      <td>1.695863</td>\n",
       "      <td>2.867348</td>\n",
       "      <td>19.212558</td>\n",
       "    </tr>\n",
       "    <tr>\n",
       "      <th>min</th>\n",
       "      <td>1.000000</td>\n",
       "      <td>40.000000</td>\n",
       "      <td>4.000000</td>\n",
       "      <td>0.000000</td>\n",
       "      <td>10.000000</td>\n",
       "    </tr>\n",
       "    <tr>\n",
       "      <th>25%</th>\n",
       "      <td>3.000000</td>\n",
       "      <td>54.000000</td>\n",
       "      <td>5.000000</td>\n",
       "      <td>2.000000</td>\n",
       "      <td>40.000000</td>\n",
       "    </tr>\n",
       "    <tr>\n",
       "      <th>50%</th>\n",
       "      <td>5.000000</td>\n",
       "      <td>69.000000</td>\n",
       "      <td>7.000000</td>\n",
       "      <td>5.000000</td>\n",
       "      <td>55.000000</td>\n",
       "    </tr>\n",
       "    <tr>\n",
       "      <th>75%</th>\n",
       "      <td>7.000000</td>\n",
       "      <td>85.000000</td>\n",
       "      <td>8.000000</td>\n",
       "      <td>7.000000</td>\n",
       "      <td>71.000000</td>\n",
       "    </tr>\n",
       "    <tr>\n",
       "      <th>max</th>\n",
       "      <td>9.000000</td>\n",
       "      <td>99.000000</td>\n",
       "      <td>9.000000</td>\n",
       "      <td>9.000000</td>\n",
       "      <td>100.000000</td>\n",
       "    </tr>\n",
       "  </tbody>\n",
       "</table>\n",
       "</div>"
      ],
      "text/plain": [
       "       Hours Studied  Previous Scores   Sleep Hours  \\\n",
       "count   10000.000000     10000.000000  10000.000000   \n",
       "mean        4.992900        69.445700      6.530600   \n",
       "std         2.589309        17.343152      1.695863   \n",
       "min         1.000000        40.000000      4.000000   \n",
       "25%         3.000000        54.000000      5.000000   \n",
       "50%         5.000000        69.000000      7.000000   \n",
       "75%         7.000000        85.000000      8.000000   \n",
       "max         9.000000        99.000000      9.000000   \n",
       "\n",
       "       Sample Question Papers Practiced  Performance Index  \n",
       "count                      10000.000000       10000.000000  \n",
       "mean                           4.583300          55.224800  \n",
       "std                            2.867348          19.212558  \n",
       "min                            0.000000          10.000000  \n",
       "25%                            2.000000          40.000000  \n",
       "50%                            5.000000          55.000000  \n",
       "75%                            7.000000          71.000000  \n",
       "max                            9.000000         100.000000  "
      ]
     },
     "execution_count": 34,
     "metadata": {},
     "output_type": "execute_result"
    }
   ],
   "source": [
    "df.describe()"
   ]
  },
  {
   "cell_type": "code",
   "execution_count": 35,
   "id": "e1259ae9-2e67-49ff-8ffe-9327afa2acd8",
   "metadata": {},
   "outputs": [],
   "source": [
    "le = LabelEncoder()\n",
    "df['Extracurricular Activities'] = le.fit_transform(df['Extracurricular Activities'])\n",
    "# yes = 1\n",
    "# no = 0"
   ]
  },
  {
   "cell_type": "code",
   "execution_count": 36,
   "id": "a5b66a98-1786-49da-9457-4596a9a8683b",
   "metadata": {},
   "outputs": [],
   "source": [
    "X = df.drop(columns='Performance Index').values\n",
    "y = df['Performance Index'].values"
   ]
  },
  {
   "cell_type": "code",
   "execution_count": 37,
   "id": "d74349f0-14f0-4012-a407-e07285094f87",
   "metadata": {},
   "outputs": [],
   "source": [
    "X_train, X_test, Y_train, Y_test = train_test_split(X, y, random_state=2, test_size=0.2)"
   ]
  },
  {
   "cell_type": "code",
   "execution_count": 38,
   "id": "83fef673-5e67-4560-aa18-47f0ecff6f93",
   "metadata": {},
   "outputs": [],
   "source": [
    "class MultipleRegression:\n",
    "\n",
    "    def __init__(self):\n",
    "\n",
    "        self.coef_ = None\n",
    "        self.intercept_ = None\n",
    "\n",
    "    def fit(self, X_train, Y_train):\n",
    "\n",
    "        X_train = np.insert(X_train, 0, 1, axis=1)\n",
    "\n",
    "        # Calculating each beta (B0, B1, B2...Bn) \n",
    "        betas = np.linalg.inv(np.dot(X_train.T, X_train)).dot(X_train.T).dot(Y_train)\n",
    "\n",
    "        self.intercept_ = betas[0]\n",
    "        self.coef_ = betas[1:]\n",
    "\n",
    "    def predict(self, X_test):\n",
    "\n",
    "        y_hat = np.dot(X_test, self.coef_) + self.intercept_\n",
    "        return y_hat\n",
    "        \n",
    "        \n",
    "        "
   ]
  },
  {
   "cell_type": "code",
   "execution_count": 39,
   "id": "883fd720-e817-4af3-ba73-95dffa3fb7dd",
   "metadata": {},
   "outputs": [],
   "source": [
    "obj = MultipleRegression()"
   ]
  },
  {
   "cell_type": "code",
   "execution_count": 40,
   "id": "b577ffab-8bda-494e-a89f-1d48fb2d517f",
   "metadata": {},
   "outputs": [],
   "source": [
    "obj.fit(X_train, Y_train)"
   ]
  },
  {
   "cell_type": "code",
   "execution_count": 41,
   "id": "68509539-e6bd-403d-ac4f-1d9719570136",
   "metadata": {},
   "outputs": [
    {
     "name": "stdout",
     "output_type": "stream",
     "text": [
      "Intercept is :  -34.17752765121582\n",
      "Betas are :  [2.85352109 1.01959723 0.59483017 0.48314352 0.1977199 ]\n"
     ]
    }
   ],
   "source": [
    "print(\"Intercept is : \",obj.intercept_)\n",
    "print(\"Betas are : \",obj.coef_)"
   ]
  },
  {
   "cell_type": "code",
   "execution_count": 42,
   "id": "08aa52c1-40d4-47db-811e-2fc695283f84",
   "metadata": {},
   "outputs": [],
   "source": [
    "y_pred = obj.predict(X_test)"
   ]
  },
  {
   "cell_type": "code",
   "execution_count": 43,
   "id": "e695605d-1a30-4451-9e49-1ef35ce0b74b",
   "metadata": {},
   "outputs": [
    {
     "name": "stdout",
     "output_type": "stream",
     "text": [
      "R2 Score is :  0.9890954655668953\n"
     ]
    }
   ],
   "source": [
    "print(\"R2 Score is : \", r2_score(Y_test, y_pred))"
   ]
  },
  {
   "cell_type": "code",
   "execution_count": 44,
   "id": "78437ed7-b769-44a4-9b2a-44ba848658a3",
   "metadata": {},
   "outputs": [
    {
     "name": "stdout",
     "output_type": "stream",
     "text": [
      "Actual vs. Predicted: Y_train size: 8000, y_pred size: 2000\n"
     ]
    },
    {
     "data": {
      "image/png": "[encoded data removed]",
      "text/plain": [
       "<Figure size 640x480 with 1 Axes>"
      ]
     },
     "metadata": {},
     "output_type": "display_data"
    }
   ],
   "source": [
    "print(f\"Actual vs. Predicted: Y_train size: {Y_train.shape[0]}, y_pred size: {y_pred.shape[0]}\")\n",
    "plt.scatter(Y_test, y_pred, color='blue', alpha=0.5)\n",
    "plt.plot([Y_train.min(), Y_train.max()], [Y_train.min(), Y_train.max()], 'r--', lw=2)  # 45-degree line\n",
    "plt.xlabel('Actual Performance Index')\n",
    "plt.ylabel('Predicted Performance Index')\n",
    "plt.title('Actual vs. Predicted Performance Index')\n",
    "plt.tight_layout()\n",
    "plt.show()"
   ]
  }
 ],
 "metadata": {
  "kernelspec": {
   "display_name": "Python 3 (ipykernel)",
   "language": "python",
   "name": "python3"
  },
  "language_info": {
   "codemirror_mode": {
    "name": "ipython",
    "version": 3
   },
   "file_extension": ".py",
   "mimetype": "text/x-python",
   "name": "python",
   "nbconvert_exporter": "python",
   "pygments_lexer": "ipython3",
   "version": "3.10.0"
  }
 },
 "nbformat": 4,
 "nbformat_minor": 5
}
